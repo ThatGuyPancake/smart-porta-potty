{
 "cells": [
  {
   "cell_type": "code",
   "execution_count": 2,
   "outputs": [
    {
     "name": "stdout",
     "output_type": "stream",
     "text": [
      "Collecting paho-mqtt\n",
      "  Downloading paho-mqtt-1.6.1.tar.gz (99 kB)\n",
      "     ---------------------------------------- 99.4/99.4 kB 5.6 MB/s eta 0:00:00\n",
      "  Preparing metadata (setup.py): started\n",
      "  Preparing metadata (setup.py): finished with status 'done'\n",
      "Building wheels for collected packages: paho-mqtt\n",
      "  Building wheel for paho-mqtt (setup.py): started\n",
      "  Building wheel for paho-mqtt (setup.py): finished with status 'done'\n",
      "  Created wheel for paho-mqtt: filename=paho_mqtt-1.6.1-py3-none-any.whl size=65646 sha256=a05a10bfc646620d513a0b8a6813de00d51ee7d902a63d1fafd4edc1e121b354\n",
      "  Stored in directory: c:\\users\\mihai\\appdata\\local\\pip\\cache\\wheels\\8b\\bb\\0c\\79444d1dee20324d442856979b5b519b48828b0bd3d05df84a\n",
      "Successfully built paho-mqtt\n",
      "Installing collected packages: paho-mqtt\n",
      "Successfully installed paho-mqtt-1.6.1\n"
     ]
    }
   ],
   "source": [
    "!pip install paho-mqtt"
   ],
   "metadata": {
    "collapsed": false
   }
  },
  {
   "cell_type": "code",
   "execution_count": 11,
   "metadata": {
    "collapsed": true
   },
   "outputs": [
    {
     "name": "stdout",
     "output_type": "stream",
     "text": [
      "{\n",
      "  \"end_device_ids\": {\n",
      "    \"device_id\": \"eui-fontys-iot-martijn-patrick-01\",\n",
      "    \"application_ids\": {\n",
      "      \"application_id\": \"fontys-iot-marijn-patrick\"\n",
      "    },\n",
      "    \"dev_eui\": \"70B3D5499298A2EB\",\n",
      "    \"join_eui\": \"0000000000000000\"\n",
      "  },\n",
      "  \"correlation_ids\": [\n",
      "    \"as:up:01GJZHHMW1YRC03WNNVK3SB7JB\",\n",
      "    \"rpc:/ttn.lorawan.v3.AppAs/SimulateUplink:738d78fa-1116-4d37-a965-6a2d26307cfd\"\n",
      "  ],\n",
      "  \"received_at\": \"2022-11-28T16:36:26.112429431Z\",\n",
      "  \"uplink_message\": {\n",
      "    \"f_port\": 1,\n",
      "    \"frm_payload\": \"AA==\",\n",
      "    \"rx_metadata\": [\n",
      "      {\n",
      "        \"gateway_ids\": {\n",
      "          \"gateway_id\": \"test\"\n",
      "        },\n",
      "        \"rssi\": 42,\n",
      "        \"channel_rssi\": 42,\n",
      "        \"snr\": 4.2\n",
      "      }\n",
      "    ],\n",
      "    \"settings\": {\n",
      "      \"data_rate\": {\n",
      "        \"lora\": {\n",
      "          \"bandwidth\": 125000,\n",
      "          \"spreading_factor\": 7\n",
      "        }\n",
      "      }\n",
      "    },\n",
      "    \"locations\": {\n",
      "      \"user\": {\n",
      "        \"latitude\": 51.356137375953935,\n",
      "        \"longitude\": 6.158153414726258,\n",
      "        \"source\": \"SOURCE_REGISTRY\"\n",
      "      }\n",
      "    }\n",
      "  },\n",
      "  \"simulated\": true\n",
      "}\n"
     ]
    }
   ],
   "source": [
    "import paho.mqtt.subscribe as subscribe\n",
    "import json\n",
    "\n",
    "m = subscribe.simple(topics=['#'], hostname=\"eu1.cloud.thethings.network\", port=1883, auth={'username':\"fontys-iot-marijn-patrick@ttn\",'password':\"NNSXS.22463BVH57Q5HHZVBLMAGO66ITPNZH6AOUT7IFQ.OSL6N7DPJ6UWLQONN33HVF5DX5SD7XWECUOFZAVGVAYUPA7YLUWQ\"}, msg_count=1)\n",
    "\n",
    "print(json.dumps(json.loads(m.payload), indent=2))\n",
    "\n",
    "# for a in m:\n",
    "#     print(a.topic)\n",
    "#     print(a.payload)"
   ]
  }
 ],
 "metadata": {
  "kernelspec": {
   "display_name": "Python 3",
   "language": "python",
   "name": "python3"
  },
  "language_info": {
   "codemirror_mode": {
    "name": "ipython",
    "version": 2
   },
   "file_extension": ".py",
   "mimetype": "text/x-python",
   "name": "python",
   "nbconvert_exporter": "python",
   "pygments_lexer": "ipython2",
   "version": "2.7.6"
  }
 },
 "nbformat": 4,
 "nbformat_minor": 0
}
